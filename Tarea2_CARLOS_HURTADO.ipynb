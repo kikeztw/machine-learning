{
 "cells": [
  {
   "attachments": {},
   "cell_type": "markdown",
   "metadata": {},
   "source": [
    "# Tarea 2:\n",
    "\n",
    "## Pandas"
   ]
  },
  {
   "attachments": {},
   "cell_type": "markdown",
   "metadata": {},
   "source": [
    "La tarea la debe resolver directamente sobre este *notebook*. Le deben cambiar el nombre al *notebook* sustituyendo el nombre y el apellido. Por ejemplo:\n",
    "`Tarea2_wladimir_rodriguez.ipynb`. La tarea deben enviarla al correo electrónico `wladimir@ula.ve` antes de la hora de clase (8am) del día martes 2 de julio."
   ]
  },
  {
   "cell_type": "code",
   "execution_count": 2,
   "metadata": {},
   "outputs": [],
   "source": [
    "# importando pandas usando la convención\n",
    "import pandas as pd"
   ]
  },
  {
   "attachments": {},
   "cell_type": "markdown",
   "metadata": {},
   "source": [
    "El archivo de datos se encuentra en el directorio datos del Repositorio"
   ]
  },
  {
   "cell_type": "code",
   "execution_count": 3,
   "metadata": {},
   "outputs": [
    {
     "data": {
      "text/html": [
       "<div>\n",
       "<style scoped>\n",
       "    .dataframe tbody tr th:only-of-type {\n",
       "        vertical-align: middle;\n",
       "    }\n",
       "\n",
       "    .dataframe tbody tr th {\n",
       "        vertical-align: top;\n",
       "    }\n",
       "\n",
       "    .dataframe thead th {\n",
       "        text-align: right;\n",
       "    }\n",
       "</style>\n",
       "<table border=\"1\" class=\"dataframe\">\n",
       "  <thead>\n",
       "    <tr style=\"text-align: right;\">\n",
       "      <th></th>\n",
       "      <th>title</th>\n",
       "      <th>year</th>\n",
       "    </tr>\n",
       "  </thead>\n",
       "  <tbody>\n",
       "    <tr>\n",
       "      <th>0</th>\n",
       "      <td>Mahler</td>\n",
       "      <td>1974</td>\n",
       "    </tr>\n",
       "    <tr>\n",
       "      <th>1</th>\n",
       "      <td>Ogon, voda i... mednye truby</td>\n",
       "      <td>1968</td>\n",
       "    </tr>\n",
       "    <tr>\n",
       "      <th>2</th>\n",
       "      <td>Ana Nojoom bent alasherah wamotalagah</td>\n",
       "      <td>2014</td>\n",
       "    </tr>\n",
       "    <tr>\n",
       "      <th>3</th>\n",
       "      <td>Malu de Bicicleta</td>\n",
       "      <td>2010</td>\n",
       "    </tr>\n",
       "    <tr>\n",
       "      <th>4</th>\n",
       "      <td>Nazareno Apostol: Boy Ahas</td>\n",
       "      <td>1989</td>\n",
       "    </tr>\n",
       "  </tbody>\n",
       "</table>\n",
       "</div>"
      ],
      "text/plain": [
       "                                   title  year\n",
       "0                                 Mahler  1974\n",
       "1           Ogon, voda i... mednye truby  1968\n",
       "2  Ana Nojoom bent alasherah wamotalagah  2014\n",
       "3                      Malu de Bicicleta  2010\n",
       "4             Nazareno Apostol: Boy Ahas  1989"
      ]
     },
     "execution_count": 3,
     "metadata": {},
     "output_type": "execute_result"
    }
   ],
   "source": [
    "# Cargar base de datos imdb de títulos de peliculas\n",
    "titulos = pd.read_csv('../datos/titles.csv' )\n",
    "titulos.head()"
   ]
  },
  {
   "cell_type": "code",
   "execution_count": 3,
   "metadata": {},
   "outputs": [
    {
     "data": {
      "text/html": [
       "<div>\n",
       "<style scoped>\n",
       "    .dataframe tbody tr th:only-of-type {\n",
       "        vertical-align: middle;\n",
       "    }\n",
       "\n",
       "    .dataframe tbody tr th {\n",
       "        vertical-align: top;\n",
       "    }\n",
       "\n",
       "    .dataframe thead th {\n",
       "        text-align: right;\n",
       "    }\n",
       "</style>\n",
       "<table border=\"1\" class=\"dataframe\">\n",
       "  <thead>\n",
       "    <tr style=\"text-align: right;\">\n",
       "      <th></th>\n",
       "      <th>title</th>\n",
       "      <th>year</th>\n",
       "    </tr>\n",
       "  </thead>\n",
       "  <tbody>\n",
       "    <tr>\n",
       "      <th>230402</th>\n",
       "      <td>El lobo negro</td>\n",
       "      <td>1981</td>\n",
       "    </tr>\n",
       "    <tr>\n",
       "      <th>230403</th>\n",
       "      <td>Komu na Rusi zhit...</td>\n",
       "      <td>1989</td>\n",
       "    </tr>\n",
       "    <tr>\n",
       "      <th>230404</th>\n",
       "      <td>Senotaji</td>\n",
       "      <td>2013</td>\n",
       "    </tr>\n",
       "    <tr>\n",
       "      <th>230405</th>\n",
       "      <td>The Leopard Woman</td>\n",
       "      <td>1920</td>\n",
       "    </tr>\n",
       "    <tr>\n",
       "      <th>230406</th>\n",
       "      <td>Mio caro assassino</td>\n",
       "      <td>1972</td>\n",
       "    </tr>\n",
       "  </tbody>\n",
       "</table>\n",
       "</div>"
      ],
      "text/plain": [
       "                       title  year\n",
       "230402         El lobo negro  1981\n",
       "230403  Komu na Rusi zhit...  1989\n",
       "230404              Senotaji  2013\n",
       "230405     The Leopard Woman  1920\n",
       "230406    Mio caro assassino  1972"
      ]
     },
     "execution_count": 3,
     "metadata": {},
     "output_type": "execute_result"
    }
   ],
   "source": [
    "titulos.tail()"
   ]
  },
  {
   "cell_type": "code",
   "execution_count": 4,
   "metadata": {},
   "outputs": [
    {
     "data": {
      "text/plain": [
       "230407"
      ]
     },
     "execution_count": 4,
     "metadata": {},
     "output_type": "execute_result"
    }
   ],
   "source": [
    "# Cuantas películas estan listadas en el dataframe de títulos?\n",
    "len(titulos)"
   ]
  },
  {
   "attachments": {},
   "cell_type": "markdown",
   "metadata": {},
   "source": [
    "### Ejercicios"
   ]
  },
  {
   "cell_type": "code",
   "execution_count": 4,
   "metadata": {},
   "outputs": [
    {
     "data": {
      "text/plain": [
       "6"
      ]
     },
     "execution_count": 4,
     "metadata": {},
     "output_type": "execute_result"
    }
   ],
   "source": [
    "# 1. ¿Cuántas películas estan listadas por el nombre \"Dracula\"?\n",
    "search_text = \"Dracula\"\n",
    "result_list = titulos[titulos[\"title\"] == search_text]\n",
    "len(result_list)\n"
   ]
  },
  {
   "cell_type": "code",
   "execution_count": 12,
   "metadata": {},
   "outputs": [
    {
     "name": "stdout",
     "output_type": "stream",
     "text": [
      "                       title  count\n",
      "68024                 Hamlet     19\n",
      "28663                 Carmen     16\n",
      "106303               Macbeth     15\n",
      "110377                  Maya     11\n",
      "180161          The Outsider     11\n",
      "184859  The Three Musketeers     11\n",
      "71022                   Hero     11\n",
      "128326               Othello     11\n",
      "12444                   Anna     10\n",
      "12459          Anna Karenina     10\n"
     ]
    }
   ],
   "source": [
    "# 2. Títulos mas comunes en la historia filmografica\n",
    "commun_titles_group = titulos.groupby('title').size().reset_index(name='count')\n",
    "commun_titles = commun_titles_group.sort_values(by='count', ascending=False)\n",
    "print(commun_titles.head(10))\n"
   ]
  },
  {
   "cell_type": "code",
   "execution_count": 15,
   "metadata": {},
   "outputs": [
    {
     "name": "stdout",
     "output_type": "stream",
     "text": [
      "title    Romeo and Juliet\n",
      "year                 1916\n",
      "Name: 124702, dtype: object\n"
     ]
    }
   ],
   "source": [
    "# 3. ¿Cuál fue la primer película hecha titulada \"Romeo and Juliet\"?\n",
    "search_text = \"Romeo and Juliet\"\n",
    "titles_sort_by_years = titulos.sort_values(by='year')\n",
    "movies_to_search = titles_sort_by_years[titles_sort_by_years[\"title\"] == search_text]\n",
    "movies_to_search = movies_to_search.iloc[0]\n",
    "print(movies_to_search)\n"
   ]
  },
  {
   "cell_type": "code",
   "execution_count": 22,
   "metadata": {},
   "outputs": [
    {
     "name": "stdout",
     "output_type": "stream",
     "text": [
      "                                         title  year\n",
      "88003                             The Exorcist  1973\n",
      "49658                  O Exorcista de Mulheres  1974\n",
      "118920     Satanico Pandemonium: La Sexorcista  1975\n",
      "140519                Exorcist II: The Heretic  1977\n",
      "220073                        Kung Fu Exorcist  1978\n",
      "17375                         The Exorcist III  1990\n",
      "132451                        Teenage Exorcist  1991\n",
      "117797                 Exorcist: The Beginning  2004\n",
      "94189        Dominion: Prequel to the Exorcist  2005\n",
      "209250  Costa Chica: Confession of an Exorcist  2006\n",
      "86354                      Exorcist Chronicles  2007\n",
      "130686                      The Disco Exorcist  2011\n",
      "57932                      Exorcist Chronicles  2013\n",
      "69974                           Shark Exorcist  2015\n",
      "51101                            Bad Exorcists  2015\n",
      "151850                              Exorcistas  2015\n",
      "60700                      Accidental Exorcist  2016\n",
      "161093                       American Exorcist  2016\n",
      "195615                    Diary of an Exorcist  2016\n",
      "228642                  Exorcist House of Evil  2016\n"
     ]
    }
   ],
   "source": [
    "# 4. Listar todas las películas que contengan la palabra \"Exorcist\" \n",
    "# ordenadas de la mas vieja a la mas reciente.\n",
    "search_text = \"exorcist\"\n",
    "movies_to_search = titulos[titulos[\"title\"].str.lower().str.contains(search_text, na=False)]\n",
    "titles_sort_by_years = movies_to_search.sort_values(by='year')\n",
    "print(titles_sort_by_years)\n"
   ]
  },
  {
   "cell_type": "code",
   "execution_count": 25,
   "metadata": {},
   "outputs": [
    {
     "name": "stdout",
     "output_type": "stream",
     "text": [
      "1081\n"
     ]
    }
   ],
   "source": [
    "# 5. ¿Cuántas películas fueron hechas en el año 1950?\n",
    "year_to_search = 1950\n",
    "movies_to_search = titulos[titulos[\"year\"] == year_to_search]\n",
    "print(len(movies_to_search))"
   ]
  },
  {
   "cell_type": "code",
   "execution_count": 26,
   "metadata": {},
   "outputs": [
    {
     "name": "stdout",
     "output_type": "stream",
     "text": [
      "2106\n"
     ]
    }
   ],
   "source": [
    "# 6. ¿Cuántas películas fueron hechas en el año 1970?\n",
    "year_to_search = 1970\n",
    "movies_to_search = titulos[titulos[\"year\"] == year_to_search]\n",
    "print(len(movies_to_search))"
   ]
  },
  {
   "cell_type": "code",
   "execution_count": 28,
   "metadata": {},
   "outputs": [
    {
     "name": "stdout",
     "output_type": "stream",
     "text": [
      "Se hicieron 12606 películas entre 1950 y 1959.\n"
     ]
    }
   ],
   "source": [
    "# 7. ¿Cuántas películas fueron hechas de 1950 a 1959\n",
    "movies_1950_1959 = titulos[(titulos['year'] >= 1950) & (titulos['year'] <= 1959)]\n",
    "print(f\"Se hicieron {len(movies_1950_1959)} películas entre 1950 y 1959.\")"
   ]
  },
  {
   "cell_type": "code",
   "execution_count": 39,
   "metadata": {},
   "outputs": [
    {
     "name": "stdout",
     "output_type": "stream",
     "text": [
      "                                        title  year\n",
      "111048                                 Batman  1943\n",
      "216605                       Batman and Robin  1949\n",
      "13441                          Batman Dracula  1964\n",
      "115931                  Alyas Batman at Robin  1965\n",
      "115907                      Batman: The Movie  1966\n",
      "40367                            James Batman  1966\n",
      "116679                  Batman Fights Dracula  1967\n",
      "174893                  Fight! Batman, Fight!  1973\n",
      "55819                                  Batman  1989\n",
      "24698                   Alyas Batman en Robin  1991\n",
      "149852                         Batman Returns  1992\n",
      "178478           Batman: Mask of the Phantasm  1993\n",
      "184088                         Batman Forever  1995\n",
      "137686                         Batman & Robin  1997\n",
      "42345                           Batman Begins  2005\n",
      "129700                         Batman Reboots  2010\n",
      "38457                           Batman Untold  2010\n",
      "192518                        Batman Revealed  2012\n",
      "76004            Batman Beyond: Rising Knight  2014\n",
      "215266                       Batman: Crusader  2014\n",
      "18757              Batman: The Shattered Cowl  2016\n",
      "218189  Batman: Return of the Caped Crusaders  2016\n",
      "32832                         Batman: Anarchy  2016\n",
      "216609     Batman v Superman: Dawn of Justice  2016\n",
      "85456                 B@ (Batman Parody Film)  2016\n",
      "38686                         Batman Infinite  2016\n",
      "137183               Batman: The Killing Joke  2016\n",
      "120281                  The Lego Batman Movie  2017\n"
     ]
    }
   ],
   "source": [
    "# 8. En que años alguna película llamada \"Batman\" se presento\n",
    "search_text = \"batman\"\n",
    "movies_to_search = titulos[titulos[\"title\"].str.lower().str.contains(search_text, na=False)]\n",
    "titles_sort_by_years = movies_to_search.sort_values(by='year')\n",
    "print(titles_sort_by_years)\n"
   ]
  },
  {
   "cell_type": "code",
   "execution_count": 37,
   "metadata": {},
   "outputs": [
    {
     "name": "stdout",
     "output_type": "stream",
     "text": [
      "En el año 2016 hay más películas con una cantidad total de 14385 peliculas\n",
      "     year  count\n",
      "116  2016  14385\n",
      "115  2015   8710\n",
      "114  2014   8068\n",
      "113  2013   7647\n",
      "112  2012   7241\n",
      "111  2011   6867\n",
      "117  2017   6417\n",
      "110  2010   6253\n",
      "109  2009   6010\n",
      "108  2008   5004\n"
     ]
    }
   ],
   "source": [
    "# 9. En cual año hay mas películas\n",
    "commun_titles_group = titulos.groupby('year').size().reset_index(name='count')\n",
    "commun_titles = commun_titles_group.sort_values(by='count', ascending=False)\n",
    "print(f\"En el año {commun_titles['year'].iloc[0]} hay más películas con una cantidad total de {commun_titles['count'].iloc[0]} peliculas\")\n",
    "print(commun_titles.head(10))\n"
   ]
  },
  {
   "cell_type": "code",
   "execution_count": 38,
   "metadata": {},
   "outputs": [
    {
     "name": "stdout",
     "output_type": "stream",
     "text": [
      "En el año 1894 hay más películas con una cantidad total de 1 peliculas\n",
      "     year  count\n",
      "0    1894      1\n",
      "4    1903      1\n",
      "124  2024      1\n",
      "1    1898      1\n",
      "2    1899      1\n",
      "5    1905      2\n",
      "3    1900      4\n",
      "7    1907      4\n",
      "6    1906      5\n",
      "8    1908      6\n"
     ]
    }
   ],
   "source": [
    "# 10. En cual año hay menos películas\n",
    "commun_titles_group = titulos.groupby('year').size().reset_index(name='count')\n",
    "commun_titles = commun_titles_group.sort_values(by='count', ascending=True)\n",
    "print(f\"En el año {commun_titles['year'].iloc[0]} hay menos películas con una cantidad total de {commun_titles['count'].iloc[0]} peliculas\")\n",
    "print(commun_titles.head(10))\n"
   ]
  }
 ],
 "metadata": {
  "kernelspec": {
   "display_name": "Python 3 (ipykernel)",
   "language": "python",
   "name": "python3"
  },
  "language_info": {
   "codemirror_mode": {
    "name": "ipython",
    "version": 3
   },
   "file_extension": ".py",
   "mimetype": "text/x-python",
   "name": "python",
   "nbconvert_exporter": "python",
   "pygments_lexer": "ipython3",
   "version": "3.11.7"
  }
 },
 "nbformat": 4,
 "nbformat_minor": 4
}
