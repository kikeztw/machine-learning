{
 "cells": [
  {
   "cell_type": "markdown",
   "metadata": {},
   "source": [
    "<a href=\"https://colab.research.google.com/github/wladrod/Aprendizaje-Automatico-2022/blob/master/notebooks/23-RedNeuronalConvolucional_2.ipynb\" target=\"_parent\"><img src=\"https://colab.research.google.com/assets/colab-badge.svg\" alt=\"Open In Colab\"/></a>"
   ]
  },
  {
   "cell_type": "markdown",
   "metadata": {},
   "source": [
    "<center>\n",
    "    <h1>Tema 4: Redes Neuronales Convolucionales</h1>\n",
    "    <h1>Clasificación de los Digitos MNIST</h1>\n",
    "    <br>\n",
    "    <h5>Prof. Wladimir Rodriguez</h5>\n",
    "    <h5>wladimir@ula.ve</h5>\n",
    "    <h5>Departamento de Computación</h5>\n",
    "</center>"
   ]
  },
  {
   "cell_type": "markdown",
   "metadata": {},
   "source": [
    "## Lo que vamos a cubrir\n",
    "\n",
    "Vamos a aplicar el flujo de trabajo de PyTorch a la visión artificial.\n",
    "\n",
    "<img src='../figuras/PyTorch_Flujo_Trabajo.png' />\n",
    "\n",
    "Específicamente, vamos a cubrir:\n",
    "\n",
    "| **Tema** | **Contenido** |\n",
    "| ----- | ----- |\n",
    "| **0. Librerías de visión artificial en PyTorch** | PyTorch tiene un conjunto de librerías integradas para la visión por computadora, vamos a verlas. |\n",
    "| **1. Configure el código agnóstico del dispositivo para modelos futuros** | Es una buena práctica escribir código independiente del dispositivo, así que vamos a configurarlo. |\n",
    "| **2. Cargar datos** | Para practicar la visión por computadora, comenzaremos con algunas imágenes de diferentes prendas de [MNIST](https://github.com/zalandoresearch/mnist). |\n",
    "| **3. Preparar datos** | Tenemos algunas imágenes, carguémoslas con un [PyTorch `DataLoader`](https://pytorch.org/docs/stable/data.html) para poder usarlas con nuestro ciclo de entrenamiento. |\n",
    "| **4. Modelo: Construcción de un modelo de Red Neuronal Convolucional (CNN)** | Aquí crearemos un modelo de clasificación de varias clases para aprender patrones en los datos, también elegiremos una **función de pérdida**, un **optimizador** y construiremos un **ciclo de entrenamiento**. |\n",
    "| **5. Hacer predicciones y evaluar el modelo** | Hagamos algunas predicciones sobre imágenes aleatorias y evaluemos nuestro mejor modelo. |\n",
    "| **6. Elaboración de una matriz de confusión** | Una matriz de confusión es una excelente manera de evaluar un modelo de clasificación, veamos cómo podemos hacer uno. |\n",
    "| **7. Guardar y cargar el modelo** | Como es posible que queramos usar nuestro modelo para más adelante, guardémoslo y asegurémonos de que se cargue correctamente. |"
   ]
  },
  {
   "cell_type": "markdown",
   "metadata": {},
   "source": [
    "## 0. Librerías de visión artificial en PyTorch\n",
    "\n",
    "Antes de comenzar a escribir código, hablemos de algunas bibliotecas de visión por computadora de PyTorch que debe conocer.\n",
    "\n",
    "| Módulo PyTorch | ¿Qué hace? |\n",
    "| ----- | ----- |\n",
    "| [`torchvision`](https://pytorch.org/vision/stable/index.html) | Contiene conjuntos de datos, arquitecturas de modelos y transformaciones de imágenes que se utilizan a menudo para problemas de visión artificial. |\n",
    "| [`torchvision.datasets`](https://pytorch.org/vision/stable/datasets.html) | Aquí encontrará muchos ejemplos de conjuntos de datos de visión por computadora para una variedad de problemas, desde clasificación de imágenes, detección de objetos, subtítulos de imágenes, clasificación de videos y más. También contiene [una serie de clases base para crear conjuntos de datos personalizados](https://pytorch.org/vision/stable/datasets.html#base-classes-for-custom-datasets). |\n",
    "| [`torchvision.models`](https://pytorch.org/vision/stable/models.html) | Este módulo contiene arquitecturas de modelos de visión por computadora de buen rendimiento y de uso común implementadas en PyTorch, puede usarlas con sus propios problemas. |\n",
    "| [`torchvision.transforms`](https://pytorch.org/vision/stable/transforms.html) | A menudo, las imágenes deben transformarse (convertirse en números/procesarse/aumentarse) antes de usarse con un modelo; las transformaciones de imágenes comunes se encuentran aquí. |\n",
    "| [`torch.utils.data.Dataset`](https://pytorch.org/docs/stable/data.html#torch.utils.data.Dataset) | Clase de conjunto de datos base para PyTorch. |\n",
    "| [`torch.utils.data.DataLoader`](https://pytorch.org/docs/stable/data.html#module-torch.utils.data) | Crea un iteralbe de Python sobre un conjunto de datos (creado con `torch.utils.data.Dataset`). |\n",
    "\n",
    "> **Nota:** Las clases `torch.utils.data.Dataset` y `torch.utils.data.DataLoader` no son solo para la visión por computadora en PyTorch, son capaces de manejar muchos tipos diferentes de datos.\n",
    "\n",
    "Ahora que hemos cubierto algunas de las librerías de visión por computadora de PyTorch más importantes, importemos las dependencias relevantes."
   ]
  },
  {
   "cell_type": "markdown",
   "metadata": {
    "tags": []
   },
   "source": [
    "### Importar librerías"
   ]
  },
  {
   "cell_type": "code",
   "execution_count": 16,
   "metadata": {},
   "outputs": [
    {
     "data": {
      "text/plain": [
       "('0.20.0+cu118', '2.5.0+cu118', '1.26.4')"
      ]
     },
     "execution_count": 16,
     "metadata": {},
     "output_type": "execute_result"
    }
   ],
   "source": [
    "import torch, torchvision\n",
    "from torchvision import datasets, transforms\n",
    "from torch import nn, optim\n",
    "from torch.nn import functional as F\n",
    "from torch.utils.data import DataLoader\n",
    "import torch.utils.data as data\n",
    "import matplotlib.pyplot as plt\n",
    "\n",
    "import numpy as np\n",
    "torchvision.__version__, torch.__version__, np.__version__"
   ]
  },
  {
   "cell_type": "markdown",
   "metadata": {},
   "source": [
    "## 1.0 Fijar dispositivo GPU o CPU"
   ]
  },
  {
   "cell_type": "code",
   "execution_count": 17,
   "metadata": {
    "tags": []
   },
   "outputs": [
    {
     "data": {
      "text/plain": [
       "'cuda'"
      ]
     },
     "execution_count": 17,
     "metadata": {},
     "output_type": "execute_result"
    }
   ],
   "source": [
    "# Fijar dispositivo GPU o CPU\n",
    "if torch.backends.mps.is_available():\n",
    "    dispositivo = 'mps'\n",
    "elif torch.cuda.is_available():\n",
    "    dispositivo = \"cuda\"\n",
    "else: \"cpu\"\n",
    "dispositivo"
   ]
  },
  {
   "cell_type": "markdown",
   "metadata": {},
   "source": [
    "## 2.0 Cargar los datos\n",
    "\n",
    "Para comenzar a trabajar en un problema de visión por computadora, obtengamos un conjunto de datos de visión por computadora.\n",
    "\n",
    "Vamos a empezar con MNIST.\n",
    "\n",
    "La base de datos MNIST (base de datos del Instituto Nacional Modificado de Estándares y Tecnología) es una gran colección de dígitos escritos a mano. Tiene un conjunto de entrenamiento de 60.000 ejemplos y un conjunto de prueba de 10.000 ejemplos. Es un subconjunto de una base de datos especial 3 del NIST (dígitos escritos por empleados de la Oficina del Censo de Estados Unidos) y una base de datos especial 1 (dígitos escritos por estudiantes de secundaria) más grandes que contienen imágenes monocromáticas de dígitos escritos a mano. Los dígitos han sido normalizados en tamaño y centrados en una imagen de tamaño fijo. Las imágenes originales en blanco y negro (binivel) del NIST se normalizaron en tamaño para caber en un cuadro de 20x20 píxeles conservando su relación de aspecto. Las imágenes resultantes contienen niveles de gris como resultado de la técnica de suavizado utilizada por el algoritmo de normalización. las imágenes se centraron en una imagen de 28x28 calculando el centro de masa de los píxeles y trasladando la imagen para colocar este punto en el centro del campo de 28x28.\n",
    "\n",
    "<img src='../figuras/MNIST.png' />\n",
    "\n",
    "`PyTorch` tiene un montón de conjuntos de datos comunes de visión por computadora almacenados en `torchvision.datasets`.\n",
    "\n",
    "Incluyendo MNIST en `torchvision.datasets.MNIST()`.\n",
    "\n",
    "Para descargarlo, proporcionamos los siguientes parámetros:\n",
    "\n",
    "- `root: str`: ¿a qué carpeta desea descargar los datos?\n",
    "- `train: Bool`: ¿quieres la data de entrenamiento o la deprueba?\n",
    "- `download: Bool`: ¿deberían descargarse los datos?\n",
    "- `transform: torchvision.transforms` - ¿Qué transformaciones le gustaría hacer en los datos?\n",
    "- `target_transform`: también puede transformar los objetivos (etiquetas) si lo desea.\n",
    "\n",
    "\n",
    "Muchos otros conjuntos de datos en `torchvision` tienen estas opciones de parámetros."
   ]
  },
  {
   "cell_type": "code",
   "execution_count": 18,
   "metadata": {
    "tags": []
   },
   "outputs": [],
   "source": [
    "# Bajar la data de entrenamiento \n",
    "datos_entrenamiento = datasets.MNIST(\n",
    "    root='../datos/',\n",
    "    download=True, \n",
    "    train=True, \n",
    "    transform=transforms.ToTensor())\n",
    "\n",
    "# Bajar la data de prueba\n",
    "datos_prueba = datasets.MNIST(\n",
    "    root='../datos/',\n",
    "    download=True, \n",
    "    train=False, \n",
    "    transform=transforms.ToTensor())"
   ]
  },
  {
   "cell_type": "code",
   "execution_count": 19,
   "metadata": {},
   "outputs": [],
   "source": [
    "PROPORCION_VALIDACION = 0.9\n",
    "\n",
    "n_ejemplos_entrenamiento = int(len(datos_entrenamiento) * PROPORCION_VALIDACION)\n",
    "n_ejemplos_validacion = len(datos_entrenamiento) - n_ejemplos_entrenamiento"
   ]
  },
  {
   "cell_type": "code",
   "execution_count": 20,
   "metadata": {},
   "outputs": [],
   "source": [
    "datos_entrenamiento, datos_validacion = data.random_split(datos_entrenamiento,\n",
    "                                           [n_ejemplos_entrenamiento, n_ejemplos_validacion])"
   ]
  },
  {
   "cell_type": "code",
   "execution_count": 21,
   "metadata": {},
   "outputs": [
    {
     "data": {
      "text/plain": [
       "(tensor([[[0.0000, 0.0000, 0.0000, 0.0000, 0.0000, 0.0000, 0.0000, 0.0000,\n",
       "           0.0000, 0.0000, 0.0000, 0.0000, 0.0000, 0.0000, 0.0000, 0.0000,\n",
       "           0.0000, 0.0000, 0.0000, 0.0000, 0.0000, 0.0000, 0.0000, 0.0000,\n",
       "           0.0000, 0.0000, 0.0000, 0.0000],\n",
       "          [0.0000, 0.0000, 0.0000, 0.0000, 0.0000, 0.0000, 0.0000, 0.0000,\n",
       "           0.0000, 0.0000, 0.0000, 0.0000, 0.0000, 0.0000, 0.0000, 0.0000,\n",
       "           0.0000, 0.0000, 0.0000, 0.0000, 0.0000, 0.0000, 0.0000, 0.0000,\n",
       "           0.0000, 0.0000, 0.0000, 0.0000],\n",
       "          [0.0000, 0.0000, 0.0000, 0.0000, 0.0000, 0.0000, 0.0000, 0.0000,\n",
       "           0.0000, 0.0000, 0.0000, 0.0000, 0.0000, 0.0000, 0.0000, 0.0000,\n",
       "           0.0000, 0.0000, 0.0000, 0.2471, 0.4745, 0.0000, 0.0000, 0.0000,\n",
       "           0.0000, 0.0000, 0.0000, 0.0000],\n",
       "          [0.0000, 0.0000, 0.0000, 0.0000, 0.0000, 0.0000, 0.0000, 0.0000,\n",
       "           0.0000, 0.0000, 0.0000, 0.0000, 0.0000, 0.0000, 0.0000, 0.0000,\n",
       "           0.0000, 0.0118, 0.5490, 0.9647, 0.5216, 0.0000, 0.0000, 0.0000,\n",
       "           0.0000, 0.0000, 0.0000, 0.0000],\n",
       "          [0.0000, 0.0000, 0.0000, 0.0000, 0.0000, 0.0000, 0.0000, 0.0000,\n",
       "           0.0000, 0.0000, 0.0000, 0.0000, 0.0000, 0.0000, 0.0000, 0.0000,\n",
       "           0.0000, 0.5843, 0.9961, 0.6078, 0.0078, 0.0000, 0.0000, 0.0000,\n",
       "           0.0000, 0.0000, 0.0000, 0.0000],\n",
       "          [0.0000, 0.0000, 0.0000, 0.0000, 0.0000, 0.0000, 0.0000, 0.0000,\n",
       "           0.0000, 0.0000, 0.0000, 0.0000, 0.0000, 0.0000, 0.0000, 0.0667,\n",
       "           0.6196, 0.9529, 0.4510, 0.0157, 0.0000, 0.0000, 0.0000, 0.0000,\n",
       "           0.0000, 0.0000, 0.0000, 0.0000],\n",
       "          [0.0000, 0.0000, 0.0000, 0.0000, 0.0000, 0.0000, 0.0000, 0.0000,\n",
       "           0.0000, 0.0000, 0.0000, 0.0000, 0.0000, 0.0000, 0.1176, 0.8000,\n",
       "           0.8235, 0.2549, 0.0000, 0.0000, 0.0000, 0.0000, 0.0000, 0.0000,\n",
       "           0.0000, 0.0000, 0.0000, 0.0000],\n",
       "          [0.0000, 0.0000, 0.0000, 0.0000, 0.0000, 0.0000, 0.0000, 0.0000,\n",
       "           0.0000, 0.0000, 0.0000, 0.0000, 0.0000, 0.3137, 0.9059, 0.8235,\n",
       "           0.1020, 0.0000, 0.0000, 0.0000, 0.0000, 0.0000, 0.0000, 0.0000,\n",
       "           0.0000, 0.0000, 0.0000, 0.0000],\n",
       "          [0.0000, 0.0000, 0.0000, 0.0000, 0.0000, 0.0000, 0.0000, 0.0000,\n",
       "           0.0000, 0.0000, 0.0000, 0.0510, 0.5804, 0.9647, 0.7020, 0.0314,\n",
       "           0.0000, 0.0000, 0.0000, 0.0000, 0.0000, 0.0000, 0.0000, 0.0000,\n",
       "           0.0000, 0.0000, 0.0000, 0.0000],\n",
       "          [0.0000, 0.0000, 0.0000, 0.0000, 0.0000, 0.0000, 0.0000, 0.0000,\n",
       "           0.0000, 0.0000, 0.0902, 0.7569, 0.9686, 0.5059, 0.0000, 0.0000,\n",
       "           0.0000, 0.0000, 0.0000, 0.0000, 0.0000, 0.0000, 0.0000, 0.0000,\n",
       "           0.0000, 0.0000, 0.0000, 0.0000],\n",
       "          [0.0000, 0.0000, 0.0000, 0.0000, 0.0000, 0.0000, 0.0000, 0.0000,\n",
       "           0.0000, 0.1176, 0.8039, 0.8667, 0.1961, 0.0000, 0.0000, 0.0000,\n",
       "           0.0000, 0.0000, 0.0000, 0.0000, 0.0000, 0.0000, 0.0000, 0.0000,\n",
       "           0.0000, 0.0000, 0.0000, 0.0000],\n",
       "          [0.0000, 0.0000, 0.0000, 0.0000, 0.0000, 0.0000, 0.0000, 0.0000,\n",
       "           0.1412, 0.8667, 0.8863, 0.1333, 0.0000, 0.0000, 0.0000, 0.0000,\n",
       "           0.0000, 0.0000, 0.0000, 0.0000, 0.2039, 0.6039, 0.5412, 0.0275,\n",
       "           0.0000, 0.0000, 0.0000, 0.0000],\n",
       "          [0.0000, 0.0000, 0.0000, 0.0000, 0.0000, 0.0000, 0.0000, 0.0549,\n",
       "           0.7608, 0.7843, 0.1294, 0.0000, 0.0000, 0.0000, 0.0000, 0.0000,\n",
       "           0.0000, 0.0000, 0.0902, 0.5569, 0.9804, 0.9608, 0.9804, 0.7216,\n",
       "           0.0000, 0.0000, 0.0000, 0.0000],\n",
       "          [0.0000, 0.0000, 0.0000, 0.0000, 0.0000, 0.0000, 0.1882, 0.8549,\n",
       "           0.7176, 0.1412, 0.0000, 0.0000, 0.0000, 0.0000, 0.0000, 0.0000,\n",
       "           0.0510, 0.2941, 0.8078, 0.9490, 0.3373, 0.1216, 0.2392, 0.9529,\n",
       "           0.0000, 0.0000, 0.0000, 0.0000],\n",
       "          [0.0000, 0.0000, 0.0000, 0.0000, 0.0000, 0.1059, 0.9098, 0.7647,\n",
       "           0.0314, 0.0000, 0.0000, 0.0000, 0.0000, 0.0000, 0.0000, 0.0510,\n",
       "           0.5608, 0.9765, 0.5843, 0.1373, 0.0000, 0.0000, 0.0588, 0.9294,\n",
       "           0.0000, 0.0000, 0.0000, 0.0000],\n",
       "          [0.0000, 0.0000, 0.0000, 0.0000, 0.0353, 0.7529, 0.7961, 0.0275,\n",
       "           0.0000, 0.0000, 0.0000, 0.0000, 0.0000, 0.0000, 0.0353, 0.6627,\n",
       "           0.8784, 0.3216, 0.0000, 0.0000, 0.0000, 0.0824, 0.8667, 0.6627,\n",
       "           0.0000, 0.0000, 0.0000, 0.0000],\n",
       "          [0.0000, 0.0000, 0.0000, 0.0000, 0.2784, 0.9686, 0.1765, 0.0000,\n",
       "           0.0000, 0.0000, 0.0000, 0.0000, 0.0000, 0.0000, 0.5020, 0.8667,\n",
       "           0.1373, 0.0000, 0.0000, 0.0863, 0.5373, 0.9294, 0.8078, 0.0510,\n",
       "           0.0000, 0.0000, 0.0000, 0.0000],\n",
       "          [0.0000, 0.0000, 0.0000, 0.0000, 0.8627, 0.7412, 0.0000, 0.0000,\n",
       "           0.0000, 0.0000, 0.0000, 0.0000, 0.0000, 0.2431, 0.9490, 0.1412,\n",
       "           0.0000, 0.0902, 0.3843, 0.8824, 0.9137, 0.4078, 0.0275, 0.0000,\n",
       "           0.0000, 0.0000, 0.0000, 0.0000],\n",
       "          [0.0000, 0.0000, 0.0000, 0.0000, 1.0000, 0.3216, 0.0000, 0.0000,\n",
       "           0.0000, 0.0000, 0.0000, 0.0000, 0.0000, 0.7961, 0.5294, 0.0627,\n",
       "           0.5059, 0.9490, 0.9961, 0.7294, 0.1490, 0.0000, 0.0000, 0.0000,\n",
       "           0.0000, 0.0000, 0.0000, 0.0000],\n",
       "          [0.0000, 0.0000, 0.0000, 0.0000, 0.9961, 0.2118, 0.0000, 0.0000,\n",
       "           0.0000, 0.0000, 0.0000, 0.0902, 0.1216, 0.9176, 0.8902, 0.7725,\n",
       "           0.9961, 0.9490, 0.5059, 0.0431, 0.0000, 0.0000, 0.0000, 0.0000,\n",
       "           0.0000, 0.0000, 0.0000, 0.0000],\n",
       "          [0.0000, 0.0000, 0.0000, 0.0000, 0.9961, 0.8000, 0.4353, 0.2157,\n",
       "           0.2157, 0.2157, 0.4157, 0.9451, 0.9961, 0.9961, 0.9804, 0.6353,\n",
       "           0.4000, 0.1137, 0.0000, 0.0000, 0.0000, 0.0000, 0.0000, 0.0000,\n",
       "           0.0000, 0.0000, 0.0000, 0.0000],\n",
       "          [0.0000, 0.0000, 0.0000, 0.0000, 0.3294, 0.6902, 0.6902, 0.6902,\n",
       "           0.6902, 0.6902, 0.6902, 0.6902, 0.6275, 0.3922, 0.0824, 0.0000,\n",
       "           0.0000, 0.0000, 0.0000, 0.0000, 0.0000, 0.0000, 0.0000, 0.0000,\n",
       "           0.0000, 0.0000, 0.0000, 0.0000],\n",
       "          [0.0000, 0.0000, 0.0000, 0.0000, 0.0000, 0.0000, 0.0000, 0.0000,\n",
       "           0.0000, 0.0000, 0.0000, 0.0000, 0.0000, 0.0000, 0.0000, 0.0000,\n",
       "           0.0000, 0.0000, 0.0000, 0.0000, 0.0000, 0.0000, 0.0000, 0.0000,\n",
       "           0.0000, 0.0000, 0.0000, 0.0000],\n",
       "          [0.0000, 0.0000, 0.0000, 0.0000, 0.0000, 0.0000, 0.0000, 0.0000,\n",
       "           0.0000, 0.0000, 0.0000, 0.0000, 0.0000, 0.0000, 0.0000, 0.0000,\n",
       "           0.0000, 0.0000, 0.0000, 0.0000, 0.0000, 0.0000, 0.0000, 0.0000,\n",
       "           0.0000, 0.0000, 0.0000, 0.0000],\n",
       "          [0.0000, 0.0000, 0.0000, 0.0000, 0.0000, 0.0000, 0.0000, 0.0000,\n",
       "           0.0000, 0.0000, 0.0000, 0.0000, 0.0000, 0.0000, 0.0000, 0.0000,\n",
       "           0.0000, 0.0000, 0.0000, 0.0000, 0.0000, 0.0000, 0.0000, 0.0000,\n",
       "           0.0000, 0.0000, 0.0000, 0.0000],\n",
       "          [0.0000, 0.0000, 0.0000, 0.0000, 0.0000, 0.0000, 0.0000, 0.0000,\n",
       "           0.0000, 0.0000, 0.0000, 0.0000, 0.0000, 0.0000, 0.0000, 0.0000,\n",
       "           0.0000, 0.0000, 0.0000, 0.0000, 0.0000, 0.0000, 0.0000, 0.0000,\n",
       "           0.0000, 0.0000, 0.0000, 0.0000],\n",
       "          [0.0000, 0.0000, 0.0000, 0.0000, 0.0000, 0.0000, 0.0000, 0.0000,\n",
       "           0.0000, 0.0000, 0.0000, 0.0000, 0.0000, 0.0000, 0.0000, 0.0000,\n",
       "           0.0000, 0.0000, 0.0000, 0.0000, 0.0000, 0.0000, 0.0000, 0.0000,\n",
       "           0.0000, 0.0000, 0.0000, 0.0000],\n",
       "          [0.0000, 0.0000, 0.0000, 0.0000, 0.0000, 0.0000, 0.0000, 0.0000,\n",
       "           0.0000, 0.0000, 0.0000, 0.0000, 0.0000, 0.0000, 0.0000, 0.0000,\n",
       "           0.0000, 0.0000, 0.0000, 0.0000, 0.0000, 0.0000, 0.0000, 0.0000,\n",
       "           0.0000, 0.0000, 0.0000, 0.0000]]]),\n",
       " 6)"
      ]
     },
     "execution_count": 21,
     "metadata": {},
     "output_type": "execute_result"
    }
   ],
   "source": [
    "imagen, etiqueta = datos_entrenamiento[0]\n",
    "imagen, etiqueta"
   ]
  },
  {
   "cell_type": "markdown",
   "metadata": {},
   "source": [
    "### 2.1 Formas de entrada y salida de un modelo de visión artificial\n",
    "\n",
    "Tenemos un gran tensor de valores (la imagen) que conduce a un solo valor para el objetivo (la etiqueta).\n",
    "\n",
    "Veamos la forma de la imagen."
   ]
  },
  {
   "cell_type": "code",
   "execution_count": 22,
   "metadata": {},
   "outputs": [
    {
     "data": {
      "text/plain": [
       "torch.Size([1, 28, 28])"
      ]
     },
     "execution_count": 22,
     "metadata": {},
     "output_type": "execute_result"
    }
   ],
   "source": [
    "# Cuál es la forma de la imagen\n",
    "imagen.shape"
   ]
  },
  {
   "cell_type": "markdown",
   "metadata": {},
   "source": [
    "La forma del tensor de imagen es [1, 28, 28] o más específicamente:\n",
    "```\n",
    "[canales_color=1, alto=28, ancho=28]\n",
    "```\n",
    "Tener `canales_color=1` significa que la imagen está en escala de grises.\n",
    "\n",
    "Si `canales_color=3`, la imagen viene en valores de píxeles para rojo, verde y azul (esto también se conoce como [modelo de color RGB](https://en.wikipedia.org/wiki/RGB_color_model))."
   ]
  },
  {
   "cell_type": "code",
   "execution_count": 23,
   "metadata": {},
   "outputs": [
    {
     "data": {
      "text/plain": [
       "(54000, 6000, 10000)"
      ]
     },
     "execution_count": 23,
     "metadata": {},
     "output_type": "execute_result"
    }
   ],
   "source": [
    "# Cuál es el número de ejemplos?\n",
    "len(datos_entrenamiento), len(datos_validacion), len(datos_prueba)"
   ]
  },
  {
   "cell_type": "markdown",
   "metadata": {},
   "source": [
    "Así que tenemos 54000 muestras de entrenamiento, 6000 muestras de validación y 10 000 muestras de prueba.\n",
    "\n",
    "¿Qué clases hay?\n",
    "\n",
    "Podemos encontrarlos a través del atributo `.classes`."
   ]
  },
  {
   "cell_type": "code",
   "execution_count": 24,
   "metadata": {},
   "outputs": [
    {
     "data": {
      "text/plain": [
       "['0 - zero',\n",
       " '1 - one',\n",
       " '2 - two',\n",
       " '3 - three',\n",
       " '4 - four',\n",
       " '5 - five',\n",
       " '6 - six',\n",
       " '7 - seven',\n",
       " '8 - eight',\n",
       " '9 - nine']"
      ]
     },
     "execution_count": 24,
     "metadata": {},
     "output_type": "execute_result"
    }
   ],
   "source": [
    "# Ver las clases\n",
    "nombre_clases = datos_entrenamiento.dataset.classes\n",
    "nombre_clases"
   ]
  },
  {
   "cell_type": "markdown",
   "metadata": {},
   "source": [
    "Parece que estamos tratando con 10 tipos diferentes de digitos.\n",
    "\n",
    "Debido a que estamos trabajando con 10 clases diferentes, significa que nuestro problema es **clasificación multiclase**.\n",
    "\n",
    "Visualicemos."
   ]
  },
  {
   "cell_type": "markdown",
   "metadata": {},
   "source": [
    "### 2.2 Visualizar los datos"
   ]
  },
  {
   "cell_type": "code",
   "execution_count": 25,
   "metadata": {},
   "outputs": [
    {
     "name": "stdout",
     "output_type": "stream",
     "text": [
      "Forma de la imagen: torch.Size([1, 28, 28])\n"
     ]
    },
    {
     "data": {
      "image/png": "[encoded data removed]",
      "text/plain": [
       "<Figure size 640x480 with 1 Axes>"
      ]
     },
     "metadata": {},
     "output_type": "display_data"
    }
   ],
   "source": [
    "import matplotlib.pyplot as plt\n",
    "imagen, etiqueta = datos_entrenamiento[0]\n",
    "print(f\"Forma de la imagen: {imagen.shape}\")\n",
    "plt.imshow(imagen.squeeze(), cmap='gray')\n",
    "plt.title(etiqueta);"
   ]
  },
  {
   "cell_type": "code",
   "execution_count": 26,
   "metadata": {},
   "outputs": [
    {
     "data": {
      "image/png": "[encoded data removed]",
      "text/plain": [
       "<Figure size 900x900 with 16 Axes>"
      ]
     },
     "metadata": {},
     "output_type": "display_data"
    }
   ],
   "source": [
    "# Graficar mas imagenes\n",
    "torch.manual_seed(42)\n",
    "fig = plt.figure(figsize=(9, 9))\n",
    "filas, columnas = 4, 4\n",
    "for i in range(1, filas * columnas + 1):\n",
    "    index_aleatorio = torch.randint(0, len(datos_entrenamiento), size=[1]).item()\n",
    "    imgagen, etiqueta = datos_entrenamiento[index_aleatorio]\n",
    "    fig.add_subplot(filas, columnas, i)\n",
    "    plt.imshow(imgagen.squeeze(), cmap=\"gray\")\n",
    "    plt.title(nombre_clases[etiqueta])\n",
    "    plt.axis(False);"
   ]
  },
  {
   "cell_type": "markdown",
   "metadata": {},
   "source": [
    "## 3. Preparar DataLoader\n",
    "\n",
    "Ahora tenemos un conjunto de datos listo para funcionar.\n",
    "\n",
    "El siguiente paso es prepararlo con un `torch.utils.data.DataLoader` o `DataLoader` para abreviar.\n",
    "\n",
    "El `DataLoader` hace lo siguiente:\n",
    "\n",
    "- Ayuda a cargar datos a un modelo. Para entrenamiento y para inferencia.\n",
    "- Convierte un gran `Dataset` en un Python iterable de fragmentos más pequeños.\n",
    "- Estos fragmentos más pequeños se denominan *lotes* o *mini lotes* y se pueden configurar mediante el parámetro `batch_size`.\n",
    "  - ¿Por qué hacer esto?\n",
    "  - Porque es más eficiente computacionalmente.\n",
    "  - En un mundo ideal, podría hacer el pase hacia adelante y hacia atrás en todos sus datos a la vez.\n",
    "  - Pero una vez que comienza a usar conjuntos de datos realmente grandes, a menos que tenga una potencia computacional infinita, es más fácil dividirlos en lotes.\n",
    "  - También le da al modelo más oportunidades para mejorar.\n",
    "  - Con minilotes (pequeñas porciones de datos), el descenso de gradiente se realiza más a menudo por época (una vez por minilote en lugar de una vez por época).\n",
    "  - ¿Cuál es un buen tamaño de lote?\n",
    "  - 32 es un buen lugar para comenzar con una buena cantidad de problemas.\n",
    "  - Pero dado que este es un valor que puede establecer (un hiperparámetro), puede probar diferentes tipos de valores, aunque generalmente se usan potencias de 2 con mayor frecuencia (por ejemplo, 32, 64, 128, 256, 512).\n",
    "  \n",
    "A continuación se crearan los `DataLoader` para nuestros conjuntos de entrenamiento y validación"
   ]
  },
  {
   "cell_type": "code",
   "execution_count": 27,
   "metadata": {
    "tags": []
   },
   "outputs": [
    {
     "name": "stdout",
     "output_type": "stream",
     "text": [
      "Dataloaders: (<torch.utils.data.dataloader.DataLoader object at 0x0000015DE13F2B10>, <torch.utils.data.dataloader.DataLoader object at 0x0000015DE167B250>, <torch.utils.data.dataloader.DataLoader object at 0x0000015DDB79D090>)\n",
      "Length of train dataloader: 422 batches of 128\n",
      "Length of test dataloader: 47 batches of 128\n",
      "Length of test dataloader: 79 batches of 128\n"
     ]
    }
   ],
   "source": [
    "tamaño_lote = 128\n",
    "\n",
    "# Crear cargadores para los datos de entrenamiento y validación\n",
    "cargador_entrenamiento = DataLoader(datos_entrenamiento,\n",
    "                                    batch_size=tamaño_lote,\n",
    "                                    shuffle=True)\n",
    "cargador_validacion = DataLoader(datos_validacion, \n",
    "                                 batch_size=tamaño_lote,\n",
    "                                 shuffle=False)\n",
    "cargador_prueba = DataLoader(datos_prueba, \n",
    "                                 batch_size=tamaño_lote,\n",
    "                                 shuffle=False)\n",
    "\n",
    "print(f\"Dataloaders: {cargador_entrenamiento, cargador_validacion, cargador_prueba}\") \n",
    "print(f\"Length of train dataloader: {len(cargador_entrenamiento)} batches of {tamaño_lote}\")\n",
    "print(f\"Length of test dataloader: {len(cargador_validacion)} batches of {tamaño_lote}\")\n",
    "print(f\"Length of test dataloader: {len(cargador_prueba)} batches of {tamaño_lote}\")"
   ]
  },
  {
   "cell_type": "code",
   "execution_count": 28,
   "metadata": {},
   "outputs": [
    {
     "data": {
      "text/plain": [
       "(torch.Size([128, 1, 28, 28]), torch.Size([128]))"
      ]
     },
     "execution_count": 28,
     "metadata": {},
     "output_type": "execute_result"
    }
   ],
   "source": [
    "# Que hay dentro del cargador de entrenamiento \n",
    "atributos_lote_entrenamiento, etiquetas_lote_entrenamiento = next(iter(cargador_entrenamiento))\n",
    "atributos_lote_entrenamiento.shape, etiquetas_lote_entrenamiento.shape"
   ]
  },
  {
   "cell_type": "markdown",
   "metadata": {},
   "source": [
    "Y podemos ver que los datos permanecen sin cambios al verificar una sola muestra."
   ]
  },
  {
   "cell_type": "code",
   "execution_count": 29,
   "metadata": {},
   "outputs": [
    {
     "name": "stdout",
     "output_type": "stream",
     "text": [
      "Tamaño de la imagen: torch.Size([1, 28, 28])\n",
      "Etiqueta: 1, tamaño etiqueta: torch.Size([])\n"
     ]
    },
    {
     "data": {
      "image/png": "[encoded data removed]",
      "text/plain": [
       "<Figure size 640x480 with 1 Axes>"
      ]
     },
     "metadata": {},
     "output_type": "display_data"
    }
   ],
   "source": [
    "# Mostrar un ejemplo\n",
    "torch.manual_seed(42)\n",
    "index_aleatorio = torch.randint(0, len(atributos_lote_entrenamiento), size=[1]).item()\n",
    "imagen, etiqueta = atributos_lote_entrenamiento[index_aleatorio], etiquetas_lote_entrenamiento[index_aleatorio]\n",
    "plt.imshow(imagen.squeeze(), cmap=\"gray\")\n",
    "plt.title(nombre_clases[etiqueta])\n",
    "plt.axis(\"Off\");\n",
    "print(f\"Tamaño de la imagen: {imagen.shape}\")\n",
    "print(f\"Etiqueta: {etiqueta}, tamaño etiqueta: {etiqueta.shape}\")"
   ]
  },
  {
   "cell_type": "markdown",
   "metadata": {},
   "source": [
    "## 4.0 Construir el modelo como una Red Neuronal Convolucional en PyTorch\n",
    "\n",
    "Vamos a crear una [Red Neuronal Convolucional](https://en.wikipedia.org/wiki/Convolutional_neural_network) (CNN o ConvNet).\n",
    "\n",
    "Las CNN son conocidas por sus capacidades para encontrar patrones en datos visuales.\n",
    "\n",
    "El modelo de CNN que vamos a usar se conoce como TinyVGG del sitio web [CNN Explainer](https://poloclub.github.io/cnn-explainer/).\n",
    "\n",
    "Sigue la estructura típica de una red neuronal convolucional:\n",
    "\n",
    "`Capa de entrada -> [Capa convolucional -> capa de activación -> capa de agrupación] -> Capa de salida`\n",
    "\n",
    "Donde el contenido de `[Capa convolucional -> capa de activación -> capa de agrupación]` puede ampliarse y repetirse varias veces, según los requisitos.\n",
    "\n",
    "Crearemos una CNN que replique el modelo del sitio web [CNN Explainer](https://poloclub.github.io/cnn-explainer/).\n",
    "\n",
    "<img src='../figuras/cnn-explainer-model.png' />"
   ]
  },
  {
   "cell_type": "code",
   "execution_count": 30,
   "metadata": {},
   "outputs": [],
   "source": [
    "class TinyVGG(nn.Module):\n",
    "    \"\"\"\n",
    "    Arquitectura del modelo basada en TinyVGG: \n",
    "    https://poloclub.github.io/cnn-explainer/\n",
    "    \"\"\"\n",
    "    def __init__(self, forma_entrada: int, numero_filtros: int, forma_salida: int):\n",
    "        super().__init__()\n",
    "        self.bloque_1 = nn.Sequential(\n",
    "            nn.Conv2d(in_channels=forma_entrada, \n",
    "                      out_channels=numero_filtros, \n",
    "                      kernel_size=3, \n",
    "                      stride=1, \n",
    "                      padding=1), \n",
    "            nn.ReLU(),\n",
    "            nn.Conv2d(in_channels=numero_filtros, \n",
    "                      out_channels=numero_filtros,\n",
    "                      kernel_size=3,\n",
    "                      stride=1,\n",
    "                      padding=1),\n",
    "            nn.ReLU(),\n",
    "            nn.MaxPool2d(kernel_size=2,\n",
    "                         stride=2)\n",
    "        )\n",
    "        self.bloque_2 = nn.Sequential(\n",
    "            nn.Conv2d(numero_filtros, numero_filtros, 3, padding=1),\n",
    "            nn.ReLU(),\n",
    "            nn.Conv2d(numero_filtros, numero_filtros, 3, padding=1),\n",
    "            nn.ReLU(),\n",
    "            nn.MaxPool2d(2)\n",
    "        )\n",
    "        self.clasificador = nn.Sequential(\n",
    "            nn.Flatten(),\n",
    "            nn.Linear(in_features=numero_filtros*7*7, \n",
    "                      out_features=forma_salida)\n",
    "        )\n",
    "    \n",
    "    def forward(self, x: torch.Tensor):\n",
    "        x = self.bloque_1(x)\n",
    "        x = self.bloque_2(x)\n",
    "        x = self.clasificador(x)\n",
    "        return x"
   ]
  },
  {
   "cell_type": "code",
   "execution_count": 31,
   "metadata": {},
   "outputs": [
    {
     "data": {
      "text/plain": [
       "TinyVGG(\n",
       "  (bloque_1): Sequential(\n",
       "    (0): Conv2d(1, 30, kernel_size=(3, 3), stride=(1, 1), padding=(1, 1))\n",
       "    (1): ReLU()\n",
       "    (2): Conv2d(30, 30, kernel_size=(3, 3), stride=(1, 1), padding=(1, 1))\n",
       "    (3): ReLU()\n",
       "    (4): MaxPool2d(kernel_size=2, stride=2, padding=0, dilation=1, ceil_mode=False)\n",
       "  )\n",
       "  (bloque_2): Sequential(\n",
       "    (0): Conv2d(30, 30, kernel_size=(3, 3), stride=(1, 1), padding=(1, 1))\n",
       "    (1): ReLU()\n",
       "    (2): Conv2d(30, 30, kernel_size=(3, 3), stride=(1, 1), padding=(1, 1))\n",
       "    (3): ReLU()\n",
       "    (4): MaxPool2d(kernel_size=2, stride=2, padding=0, dilation=1, ceil_mode=False)\n",
       "  )\n",
       "  (clasificador): Sequential(\n",
       "    (0): Flatten(start_dim=1, end_dim=-1)\n",
       "    (1): Linear(in_features=1470, out_features=10, bias=True)\n",
       "  )\n",
       ")"
      ]
     },
     "execution_count": 31,
     "metadata": {},
     "output_type": "execute_result"
    }
   ],
   "source": [
    "torch.manual_seed(42)\n",
    "modelo = TinyVGG(forma_entrada=1, \n",
    "    numero_filtros=30, \n",
    "    forma_salida=len(nombre_clases)).to(dispositivo)\n",
    "modelo"
   ]
  },
  {
   "cell_type": "markdown",
   "metadata": {},
   "source": [
    "### 4.1 Definir funciones `paso_entrenamiento()` y  `paso_validacion()`"
   ]
  },
  {
   "cell_type": "code",
   "execution_count": 32,
   "metadata": {},
   "outputs": [],
   "source": [
    "def paso_entrenamiento(modelo, \n",
    "             dataloader,\n",
    "             perdida_fn, \n",
    "             optimizador):\n",
    "    # Colocar modelo en modo entrenamiento\n",
    "    modelo.train()\n",
    "    \n",
    "    # Inicializar valores de perdida y exactitud del entrenamiento\n",
    "    perdida_entrenamiento, exactitud_entrenamiento = 0, 0\n",
    "    \n",
    "    # Iterar sobre los lotes del DataLoader\n",
    "    for imagenes, etiquetas in dataloader:\n",
    "        # Enviar datos al dispositivo\n",
    "        imagenes, etiquetas = imagenes.to(dispositivo), etiquetas.to(dispositivo)\n",
    "        \n",
    "        # 1. Propagar hacia adelante los datos de entrenamiento usando el método forward()\n",
    "        salida = modelo(imagenes)\n",
    "        \n",
    "        # 2. Calcule la pérdida (qué tan diferentes son las predicciones de nuestros modelos con respecto a la verdad del terreno)\n",
    "        perdida = perdida_fn(salida, etiquetas)\n",
    "        perdida_entrenamiento += perdida.item() \n",
    "        \n",
    "        # 3. Colocar a cero los gradientes del optimizador\n",
    "        optimizador.zero_grad()\n",
    "        \n",
    "        # 4. Propagación hacia atrás\n",
    "        perdida.backward()\n",
    "        \n",
    "        # 5. Realizar paso de optimización\n",
    "        optimizador.step()\n",
    "        \n",
    "        # Calcular y acumular la exactitud sobre todos los lotes\n",
    "        clase_predicha = torch.argmax(torch.softmax(salida, dim=1), dim=1)\n",
    "        exactitud_entrenamiento += (clase_predicha == etiquetas).sum().item()/len(salida)\n",
    "    \n",
    "    # Ajustar métricas para obtener un promedio de la perdida y la exactitud por lote\n",
    "    perdida_entrenamiento /= len(dataloader)\n",
    "    exactitud_entrenamiento /= len(dataloader)\n",
    "    \n",
    "    return perdida_entrenamiento, exactitud_entrenamiento"
   ]
  },
  {
   "cell_type": "code",
   "execution_count": 33,
   "metadata": {
    "tags": []
   },
   "outputs": [],
   "source": [
    "def paso_validacion(modelo,\n",
    "            dataloader,\n",
    "            perdida_fn):\n",
    "        \n",
    "    # Colocar el modelo en modo evaluación\n",
    "    modelo.eval()\n",
    "\n",
    "    # Inicializar valores de perdida y exactitud de la validación\n",
    "    perdida_validacion, exactitud_validacion = 0, 0\n",
    "    \n",
    "    # Iniciar el manejador de contexto para inferencia\n",
    "    with torch.inference_mode():\n",
    "        # Iterar sobre los lotes del DataLoader\n",
    "        for imagenes, etiquetas in dataloader:\n",
    "            # Enviar datos al dispositivo\n",
    "            imagenes, etiquetas = imagenes.to(dispositivo), etiquetas.to(dispositivo)\n",
    "            \n",
    "            # 1. Propagar hacia adelante los datos de entrenamiento usando el método forward()\n",
    "            salida = modelo(imagenes)\n",
    "            \n",
    "            # 2. Calcular y acumular la pérdida\n",
    "            perdida = perdida_fn(salida, etiquetas)\n",
    "            perdida_validacion += perdida.item()\n",
    "            \n",
    "            # 3. Calcular y acumular la exactitud\n",
    "            clases_predicha = salida.argmax(dim=1)\n",
    "            exactitud_validacion += ((clases_predicha == etiquetas).sum().item()/len(salida))\n",
    "            \n",
    "    # Ajustar métricas para obtener un promedio de la perdida y la exactitud por lote\n",
    "    perdida_validacion /= len(dataloader)\n",
    "    exactitud_validacion /= len(dataloader)\n",
    "    \n",
    "    return perdida_validacion, exactitud_validacion\n",
    "  "
   ]
  },
  {
   "cell_type": "markdown",
   "metadata": {},
   "source": [
    "### 4.2 Crear una función `entrenar()` para combinar `paso_entrenamiento()` y `paso_validacion()`\n",
    "\n",
    "Ahora necesitamos una manera de juntar nuestras funciones `paso_entrenamiento()` y `paso_validacion()`.\n",
    "\n",
    "Para hacerlo, los empaquetaremos en una función `entrenar()`.\n",
    "\n",
    "Esta función entrenará el modelo y lo evaluará.\n",
    "\n",
    "Específicamente, será:\n",
    "1. Tome un modelo, un 'DataLoader' para conjuntos de entrenamiento y prueba, un optimizador, una función de pérdida y para cuántas épocas realizar cada paso de entrenamiento y prueba.\n",
    "2. Cree un diccionario de resultados vacío para los valores `perdida_entrenamiento`, `exactitud_entrenamiento`, `perdida_validacion` y `exactitud_validacion` (podemos llenarlo a medida que avanza el entrenamiento).\n",
    "3. Iterrar las funciones de paso de prueba y entrenamiento por varias épocas.\n",
    "4. Imprime lo que sucede al final de cada época.\n",
    "5. Actualiza el diccionario de resultados vacío con las métricas actualizadas cada época.\n",
    "6. Devolver los resultados\n",
    "\n",
    "Para realizar un seguimiento de la cantidad de épocas por las que hemos pasado, importemos `tqdm` desde `tqdm.auto` ([`tqdm`](https://github.com/tqdm/tqdm) es una de las librerías más populares  de barra de progreso para Python y `tqdm.auto` decide automáticamente qué tipo de barra de progreso es mejor para su entorno informático, por ejemplo, Jupyter Notebook vs. Python script)."
   ]
  },
  {
   "cell_type": "code",
   "execution_count": 34,
   "metadata": {},
   "outputs": [],
   "source": [
    "from tqdm.auto import tqdm\n",
    "\n",
    "def entrenar(modelo: torch.nn.Module,\n",
    "             cargador_entrenamiento: torch.utils.data.DataLoader, \n",
    "             cargador_evaluacion: torch.utils.data.DataLoader, \n",
    "             optimizador: torch.optim.Optimizer,\n",
    "             perdida_fn: torch.nn.Module = nn.CrossEntropyLoss(),\n",
    "             epocas: int = 5):\n",
    "    \n",
    "    mejor_perdida_evaluacion = float('inf')\n",
    "    \n",
    "    # 2. Crear diccionario vacio para los resultados\n",
    "    resultados = {\"perdida_entrenamiento\": [],\n",
    "        \"exactitud_entrenamiento\": [],\n",
    "        \"perdida_evaluacion\": [],\n",
    "        \"exactitud_evaluacion\": []\n",
    "    }\n",
    "    \n",
    "    # 3. Iterar sobre los pasos de entrenamiento y prueba por un número de epocas\n",
    "    for epoca in tqdm(range(epocas)):\n",
    "        perdida_entrenamiento, exactitud_entrenamiento = paso_entrenamiento(modelo=modelo,\n",
    "                                                                            dataloader=cargador_entrenamiento,\n",
    "                                                                            perdida_fn=perdida_fn,\n",
    "                                                                            optimizador=optimizador)\n",
    "        perdida_evaluacion, exactitud_evaluacion = paso_validacion(modelo=modelo,\n",
    "                                                                   dataloader=cargador_validacion,\n",
    "                                                                   perdida_fn=perdida_fn)\n",
    "        \n",
    "        # 4. Imprimir que esta pasando\n",
    "        print(\n",
    "            f\"Epoca: {epoca+1} | \"\n",
    "            f\"perdida_entrenamiento: {perdida_entrenamiento:.4f} | \"\n",
    "            f\"exactitud_entrenamiento: {exactitud_entrenamiento:.4f} | \"\n",
    "            f\"perdida_evaluación: {perdida_evaluacion:.4f} | \"\n",
    "            f\"exactitud_evaluación: {exactitud_evaluacion:.4f}\"\n",
    "        )\n",
    "\n",
    "        if perdida_evaluacion < mejor_perdida_evaluacion:\n",
    "            mejor_perdida_evaluacion = perdida_evaluacion\n",
    "            torch.save(modelo.state_dict(), 'mejor-modelo.pt')\n",
    "\n",
    "        # 5. Actualizar el diccionario de resultados\n",
    "        resultados[\"perdida_entrenamiento\"].append(perdida_entrenamiento)\n",
    "        resultados[\"exactitud_entrenamiento\"].append(exactitud_entrenamiento)\n",
    "        resultados[\"perdida_evaluacion\"].append(perdida_evaluacion)\n",
    "        resultados[\"exactitud_evaluacion\"].append(exactitud_evaluacion)\n",
    "\n",
    "    # 6. Retornar el diccionario de resultadoss al final de cada epoca\n",
    "    return resultados"
   ]
  },
  {
   "cell_type": "markdown",
   "metadata": {},
   "source": [
    "### 4.3 Entrenar y evaluar el modelo\n",
    "\n",
    "Bien, bien, bien, tenemos todos los ingredientes que necesitamos para entrenar y evaluar nuestro modelo.\n",
    "\n",
    "Es hora de juntar nuestro modelo `TinyVGG`, las funciones `DataLoader` y `train()` para ver si podemos construir un modelo capaz de discernir entre pizza, bistec y sushi.\n",
    "\n",
    "Vamos a recrear `modelo` (no es necesario, pero lo haremos para completar) y luego llamamos a nuestra función `entrenar()` pasando los parámetros necesarios.\n",
    "\n",
    "Para que nuestros experimentos sean rápidos, entrenaremos nuestro modelo durante **10 épocas** (aunque puede aumentar esto si lo desea).\n",
    "\n",
    "En cuanto al **optimizador** y la **función de pérdida**, usaremos `torch.nn.CrossEntropyLoss()` (dado que estamos trabajando con datos de clasificación de clases múltiples) y `torch.optim.Adam( )` con una tasa de aprendizaje de `1e-3` respectivamente.\n",
    "\n",
    "Para ver cuánto tardan las cosas, importaremos el método [`timeit.default_timer()`](https://docs.python.org/3/library/timeit.html#timeit.default_timer) de Python para calcular el tiempo de entrenamiento. ."
   ]
  },
  {
   "cell_type": "code",
   "execution_count": 35,
   "metadata": {},
   "outputs": [
    {
     "data": {
      "application/vnd.jupyter.widget-view+json": {
       "model_id": "4a2faff26d06416687e51e90aba3b88a",
       "version_major": 2,
       "version_minor": 0
      },
      "text/plain": [
       "  0%|          | 0/20 [00:00<?, ?it/s]"
      ]
     },
     "metadata": {},
     "output_type": "display_data"
    },
    {
     "name": "stdout",
     "output_type": "stream",
     "text": [
      "Epoca: 1 | perdida_entrenamiento: 0.4552 | exactitud_entrenamiento: 0.8578 | perdida_evaluación: 0.1433 | exactitud_evaluación: 0.9562\n",
      "Epoca: 2 | perdida_entrenamiento: 0.1135 | exactitud_entrenamiento: 0.9654 | perdida_evaluación: 0.0965 | exactitud_evaluación: 0.9712\n",
      "Epoca: 3 | perdida_entrenamiento: 0.0839 | exactitud_entrenamiento: 0.9750 | perdida_evaluación: 0.0868 | exactitud_evaluación: 0.9737\n",
      "Epoca: 4 | perdida_entrenamiento: 0.0701 | exactitud_entrenamiento: 0.9790 | perdida_evaluación: 0.0692 | exactitud_evaluación: 0.9782\n",
      "Epoca: 5 | perdida_entrenamiento: 0.0615 | exactitud_entrenamiento: 0.9812 | perdida_evaluación: 0.0630 | exactitud_evaluación: 0.9804\n",
      "Epoca: 6 | perdida_entrenamiento: 0.0546 | exactitud_entrenamiento: 0.9831 | perdida_evaluación: 0.0551 | exactitud_evaluación: 0.9835\n",
      "Epoca: 7 | perdida_entrenamiento: 0.0491 | exactitud_entrenamiento: 0.9855 | perdida_evaluación: 0.0515 | exactitud_evaluación: 0.9840\n",
      "Epoca: 8 | perdida_entrenamiento: 0.0445 | exactitud_entrenamiento: 0.9865 | perdida_evaluación: 0.0521 | exactitud_evaluación: 0.9827\n",
      "Epoca: 9 | perdida_entrenamiento: 0.0402 | exactitud_entrenamiento: 0.9873 | perdida_evaluación: 0.0480 | exactitud_evaluación: 0.9857\n",
      "Epoca: 10 | perdida_entrenamiento: 0.0374 | exactitud_entrenamiento: 0.9884 | perdida_evaluación: 0.0646 | exactitud_evaluación: 0.9805\n",
      "Epoca: 11 | perdida_entrenamiento: 0.0353 | exactitud_entrenamiento: 0.9890 | perdida_evaluación: 0.0429 | exactitud_evaluación: 0.9873\n",
      "Epoca: 12 | perdida_entrenamiento: 0.0329 | exactitud_entrenamiento: 0.9897 | perdida_evaluación: 0.0444 | exactitud_evaluación: 0.9867\n",
      "Epoca: 13 | perdida_entrenamiento: 0.0301 | exactitud_entrenamiento: 0.9905 | perdida_evaluación: 0.0468 | exactitud_evaluación: 0.9862\n",
      "Epoca: 14 | perdida_entrenamiento: 0.0273 | exactitud_entrenamiento: 0.9915 | perdida_evaluación: 0.0481 | exactitud_evaluación: 0.9855\n",
      "Epoca: 15 | perdida_entrenamiento: 0.0270 | exactitud_entrenamiento: 0.9917 | perdida_evaluación: 0.0471 | exactitud_evaluación: 0.9880\n",
      "Epoca: 16 | perdida_entrenamiento: 0.0260 | exactitud_entrenamiento: 0.9919 | perdida_evaluación: 0.0424 | exactitud_evaluación: 0.9875\n",
      "Epoca: 17 | perdida_entrenamiento: 0.0238 | exactitud_entrenamiento: 0.9926 | perdida_evaluación: 0.0427 | exactitud_evaluación: 0.9885\n",
      "Epoca: 18 | perdida_entrenamiento: 0.0218 | exactitud_entrenamiento: 0.9933 | perdida_evaluación: 0.0528 | exactitud_evaluación: 0.9853\n",
      "Epoca: 19 | perdida_entrenamiento: 0.0211 | exactitud_entrenamiento: 0.9933 | perdida_evaluación: 0.0519 | exactitud_evaluación: 0.9867\n",
      "Epoca: 20 | perdida_entrenamiento: 0.0196 | exactitud_entrenamiento: 0.9941 | perdida_evaluación: 0.0564 | exactitud_evaluación: 0.9860\n",
      "Tiempo total de entrenamiento: 318.826 segundos\n"
     ]
    }
   ],
   "source": [
    "# Fijar semilla del generador de números aleatorios\n",
    "torch.manual_seed(42) \n",
    "torch.cuda.manual_seed(42)\n",
    "\n",
    "# Fijar el número de epocas\n",
    "NUMERO_EPOCAS = 20\n",
    "\n",
    "# Recrear una instancia de TinyVGG\n",
    "modelo = TinyVGG(forma_entrada=1, \n",
    "                 numero_filtros=10, \n",
    "                 forma_salida=10).to(dispositivo)\n",
    "\n",
    "# Fijar la funcion de perdida y el optimizados\n",
    "perdida_fn = nn.CrossEntropyLoss()\n",
    "optimizador = torch.optim.Adam(params=modelo.parameters(), lr=0.001)\n",
    "\n",
    "# Inicializar el temporizador\n",
    "from timeit import default_timer as timer \n",
    "tiempo_inicial = timer()\n",
    "\n",
    "# Entrenar modelo  \n",
    "modelo_resultados = entrenar(modelo=modelo,\n",
    "                             cargador_entrenamiento=cargador_entrenamiento,\n",
    "                             cargador_evaluacion=cargador_validacion,\n",
    "                             optimizador=optimizador,\n",
    "                             perdida_fn=perdida_fn,\n",
    "                             epocas=NUMERO_EPOCAS)\n",
    "\n",
    "# Finalizar el temporizador e imprimir cuanto tardo el entrenamiento\n",
    "tiempo_final = timer()\n",
    "print(f\"Tiempo total de entrenamiento: {tiempo_final-tiempo_inicial:.3f} segundos\")"
   ]
  },
  {
   "cell_type": "markdown",
   "metadata": {},
   "source": [
    "### 4.4 Graficar las curvas de pérdidas del Modelo\n",
    "\n",
    "Según los resultados del entrenamiento del `modelo`, pareciera tener una buena exactitud alrededor del 91%.\n",
    "\n",
    "Pero podemos evaluarlo aún más trazando las **curvas de pérdida** del modelo.\n",
    "\n",
    "**Las curvas de pérdida** muestran los resultados del modelo a lo largo del tiempo.\n",
    "\n",
    "Y son una excelente manera de ver cómo se desempeña su modelo en diferentes conjuntos de datos (por ejemplo, entrenamiento y prueba).\n",
    "\n",
    "Vamos a crear una función para trazar los valores en nuestro diccionario `modelo_resultados`."
   ]
  },
  {
   "cell_type": "code",
   "execution_count": 36,
   "metadata": {},
   "outputs": [
    {
     "data": {
      "text/plain": [
       "dict_keys(['perdida_entrenamiento', 'exactitud_entrenamiento', 'perdida_evaluacion', 'exactitud_evaluacion'])"
      ]
     },
     "execution_count": 36,
     "metadata": {},
     "output_type": "execute_result"
    }
   ],
   "source": [
    "# Ver las claves del diccionario modelo_resultados\n",
    "modelo_resultados.keys()"
   ]
  },
  {
   "cell_type": "markdown",
   "metadata": {},
   "source": [
    "Tendremos que extraer cada una de estas claves y convertirlas en un gráfico."
   ]
  },
  {
   "cell_type": "code",
   "execution_count": 37,
   "metadata": {},
   "outputs": [],
   "source": [
    "def graficar_curvas_perdida(resultados):\n",
    "    \"\"\"Graficar las curvas de entrenamiento del diccionario de resultados.\n",
    "\n",
    "    Argumentoss:\n",
    "        resultadoss (dict): diccionario conteniendo una lista de valores containing list of valores.\n",
    "            {\"perdida_entrenamiento\": [...],\n",
    "             \"exactitud_entrenamiento\": [...],\n",
    "             \"perdida_evaluacion\": [...],\n",
    "             \"exactitud_evaluacion\": [...]}\n",
    "    \"\"\"\n",
    "    \n",
    "    # Obtener los valores de la perdida del diccionario de resultados (entrenamiento y validación)\n",
    "    perdida = resultados['perdida_entrenamiento']\n",
    "    perdida_validacion = resultados['perdida_evaluacion']\n",
    "\n",
    "    # Obtener los valores de la exactitud del diccionario de resultados (entrenamiento y validación)\n",
    "    exactitud = resultados['exactitud_entrenamiento']\n",
    "    exactitud_validacion = resultados['exactitud_evaluacion']\n",
    "\n",
    "    # Determinar el número de epocas\n",
    "    epocas = range(len(resultados['perdida_entrenamiento']))\n",
    "\n",
    "    # Configurar la gráfica \n",
    "    plt.figure(figsize=(15, 7))\n",
    "\n",
    "    # Graficar la perdida\n",
    "    plt.subplot(1, 2, 1)\n",
    "    plt.plot(epocas, perdida, label='perdida_entrenamiento')\n",
    "    plt.plot(epocas, perdida_validacion, label='perdida_validación')\n",
    "    plt.title('Perdida')\n",
    "    plt.xlabel('Epocas')\n",
    "    plt.legend()\n",
    "\n",
    "    # Graficar la exactitud\n",
    "    plt.subplot(1, 2, 2)\n",
    "    plt.plot(epocas, exactitud, label='exactitud_entrenamiento')\n",
    "    plt.plot(epocas, exactitud_validacion, label='exactitud_validacion')\n",
    "    plt.title('Exactitud')\n",
    "    plt.xlabel('Epocas')\n",
    "    plt.legend();"
   ]
  },
  {
   "cell_type": "code",
   "execution_count": 38,
   "metadata": {},
   "outputs": [
    {
     "data": {
      "image/png": "[encoded data removed]",
      "text/plain": [
       "<Figure size 1500x700 with 2 Axes>"
      ]
     },
     "metadata": {},
     "output_type": "display_data"
    }
   ],
   "source": [
    "graficar_curvas_perdida(modelo_resultados)"
   ]
  },
  {
   "cell_type": "markdown",
   "metadata": {},
   "source": [
    "## 4. Hacer y evaluar predicciones aleatorias\n",
    "\n",
    "\n",
    "Para hacerlo, creemos una función `hacer_predicciones()` donde podemos pasar el modelo y algunos datos para que haga predicciones."
   ]
  },
  {
   "cell_type": "code",
   "execution_count": 39,
   "metadata": {},
   "outputs": [],
   "source": [
    "def hacer_predicciones(modelo: torch.nn.Module, data: list, dispositivo: torch.device = dispositivo):\n",
    "    probabilidad_predicciones = []\n",
    "    modelo.eval()\n",
    "    with torch.inference_mode():\n",
    "        for ejemplo in data:\n",
    "            # Preparar ejemplo\n",
    "            ejemplo = torch.unsqueeze(ejemplo, dim=0).to(dispositivo) # Agregar una dimensión extra y enviar ejemplo al dispositivo\n",
    "\n",
    "            # propagar hacia adelante\n",
    "            salida = modelo(ejemplo)\n",
    "\n",
    "            # Obtener la probabilidda de la predicción (salida -> probabilidad predicción)\n",
    "            probabilidad_prediccion = torch.softmax(salida.squeeze(), dim=0)\n",
    "\n",
    "            # Sacar probabilidad_prediccion del GPU para siguientes calculos\n",
    "            probabilidad_predicciones.append(probabilidad_prediccion.cpu())\n",
    "            \n",
    "    # Apilar las probabilidad_predicciones para convertir la lista en un tensor\n",
    "    return torch.stack(probabilidad_predicciones)"
   ]
  },
  {
   "cell_type": "code",
   "execution_count": 40,
   "metadata": {},
   "outputs": [
    {
     "name": "stdout",
     "output_type": "stream",
     "text": [
      "Forma imagen ejemplo: torch.Size([1, 28, 28])\n",
      "Etiqueta imagen ejemplo: 2 (2 - two)\n"
     ]
    }
   ],
   "source": [
    "import random\n",
    "random.seed(42)\n",
    "ejemplos_prueba = []\n",
    "etiquetas_prueba = []\n",
    "for ejemplo, etiqueta in random.sample(list(datos_prueba), k=9):\n",
    "    ejemplos_prueba.append(ejemplo)\n",
    "    etiquetas_prueba.append(etiqueta)\n",
    "\n",
    "# Ver la forma del primer ejemplo y la etiqueta\n",
    "print(f\"Forma imagen ejemplo: {ejemplos_prueba[0].shape}\\nEtiqueta imagen ejemplo: {etiquetas_prueba[0]} ({nombre_clases[etiquetas_prueba[0]]})\")"
   ]
  },
  {
   "cell_type": "markdown",
   "metadata": {},
   "source": [
    "Ahora podemos usar la función `hacer_predicciones()` para predecir sobre los `ejemplos_prueba`"
   ]
  },
  {
   "cell_type": "code",
   "execution_count": 41,
   "metadata": {},
   "outputs": [
    {
     "name": "stderr",
     "output_type": "stream",
     "text": [
      "C:\\Users\\kikez\\AppData\\Local\\Temp\\ipykernel_10148\\2487418023.py:2: FutureWarning: You are using `torch.load` with `weights_only=False` (the current default value), which uses the default pickle module implicitly. It is possible to construct malicious pickle data which will execute arbitrary code during unpickling (See https://github.com/pytorch/pytorch/blob/main/SECURITY.md#untrusted-models for more details). In a future release, the default value for `weights_only` will be flipped to `True`. This limits the functions that could be executed during unpickling. Arbitrary objects will no longer be allowed to be loaded via this mode unless they are explicitly allowlisted by the user via `torch.serialization.add_safe_globals`. We recommend you start setting `weights_only=True` for any use case where you don't have full control of the loaded file. Please open an issue on GitHub for any issues related to this experimental feature.\n",
      "  modelo.load_state_dict(torch.load('mejor-modelo.pt'))\n"
     ]
    },
    {
     "data": {
      "text/plain": [
       "tensor([[1.6446e-11, 1.4408e-07, 1.0000e+00, 1.6151e-09, 1.2605e-21, 3.5332e-17,\n",
       "         3.5924e-15, 1.2829e-09, 4.6502e-08, 3.7879e-13],\n",
       "        [3.8625e-09, 9.9577e-01, 9.1017e-06, 8.2503e-06, 1.2775e-03, 1.4332e-06,\n",
       "         1.0445e-05, 4.6888e-05, 2.8345e-03, 4.1560e-05]])"
      ]
     },
     "execution_count": 41,
     "metadata": {},
     "output_type": "execute_result"
    }
   ],
   "source": [
    "# Hacer predicciones sobre el conjunto de prueba\n",
    "modelo.load_state_dict(torch.load('mejor-modelo.pt'))\n",
    "probabilidades_prediccion = hacer_predicciones(modelo=modelo,\n",
    "                               data=ejemplos_prueba)\n",
    "\n",
    "# Ver las probabilidades de las dos primeras predicciones\n",
    "probabilidades_prediccion[:2]"
   ]
  },
  {
   "cell_type": "markdown",
   "metadata": {},
   "source": [
    "¡Excelente!\n",
    "\n",
    "Y ahora podemos pasar de las probabilidades de predicción a las etiquetas de predicción tomando `torch.argmax()` de la salida de la función de activación `torch.softmax()`."
   ]
  },
  {
   "cell_type": "code",
   "execution_count": 42,
   "metadata": {},
   "outputs": [
    {
     "data": {
      "text/plain": [
       "tensor([2, 1, 2, 4, 6, 6, 4, 9, 1])"
      ]
     },
     "execution_count": 42,
     "metadata": {},
     "output_type": "execute_result"
    }
   ],
   "source": [
    "# Convertir las probabilides de la predicción en las etiquetas usando argmax()\n",
    "clases_predicha = probabilidades_prediccion.argmax(dim=1)\n",
    "clases_predicha"
   ]
  },
  {
   "cell_type": "code",
   "execution_count": 43,
   "metadata": {},
   "outputs": [
    {
     "data": {
      "text/plain": [
       "([2, 1, 2, 4, 6, 6, 4, 9, 1], tensor([2, 1, 2, 4, 6, 6, 4, 9, 1]))"
      ]
     },
     "execution_count": 43,
     "metadata": {},
     "output_type": "execute_result"
    }
   ],
   "source": [
    "# Are our predictions in the same form as our test labels? \n",
    "etiquetas_prueba, clases_predicha"
   ]
  },
  {
   "cell_type": "markdown",
   "metadata": {},
   "source": [
    "Ahora nuestras clases pronosticadas están en el mismo formato que nuestras etiquetas de prueba, podemos comparar.\n",
    "Ya que estamos tratando con datos de imágenes, vamos a visualizar las predicciones."
   ]
  },
  {
   "cell_type": "code",
   "execution_count": 44,
   "metadata": {},
   "outputs": [
    {
     "ename": "NameError",
     "evalue": "name 'ejemplos_validacion' is not defined",
     "output_type": "error",
     "traceback": [
      "\u001b[1;31m---------------------------------------------------------------------------\u001b[0m",
      "\u001b[1;31mNameError\u001b[0m                                 Traceback (most recent call last)",
      "Cell \u001b[1;32mIn[44], line 5\u001b[0m\n\u001b[0;32m      3\u001b[0m filas \u001b[38;5;241m=\u001b[39m \u001b[38;5;241m3\u001b[39m\n\u001b[0;32m      4\u001b[0m columnas \u001b[38;5;241m=\u001b[39m \u001b[38;5;241m3\u001b[39m\n\u001b[1;32m----> 5\u001b[0m \u001b[38;5;28;01mfor\u001b[39;00m i, ejemplo \u001b[38;5;129;01min\u001b[39;00m \u001b[38;5;28menumerate\u001b[39m(ejemplos_validacion):\n\u001b[0;32m      6\u001b[0m   \u001b[38;5;66;03m# Crear un subplot\u001b[39;00m\n\u001b[0;32m      7\u001b[0m   plt\u001b[38;5;241m.\u001b[39msubplot(filas, columnas, i\u001b[38;5;241m+\u001b[39m\u001b[38;5;241m1\u001b[39m)\n\u001b[0;32m      9\u001b[0m   \u001b[38;5;66;03m# Graficar la imagen objetivo\u001b[39;00m\n",
      "\u001b[1;31mNameError\u001b[0m: name 'ejemplos_validacion' is not defined"
     ]
    },
    {
     "data": {
      "text/plain": [
       "<Figure size 900x900 with 0 Axes>"
      ]
     },
     "metadata": {},
     "output_type": "display_data"
    }
   ],
   "source": [
    "# Graficar predicciones\n",
    "plt.figure(figsize=(9, 9))\n",
    "filas = 3\n",
    "columnas = 3\n",
    "for i, ejemplo in enumerate(ejemplos_validacion):\n",
    "  # Crear un subplot\n",
    "  plt.subplot(filas, columnas, i+1)\n",
    "\n",
    "  # Graficar la imagen objetivo\n",
    "  plt.imshow(ejemplo.squeeze(), cmap=\"gray\")\n",
    "\n",
    "  # Encontrar la etiqueta de la predicción (en forma de texto, p.e. \"Sandal\")\n",
    "  etiqueta_predicha = nombre_clases[clases_predicha[i]]\n",
    "\n",
    "  # Encontrar la etiqueta real (en forma de texto, p.e. \"T-shirt\")\n",
    "  etiqueta_real = nombre_clases[etiquetas_prueba[i]] \n",
    "\n",
    "  # Crear el titulo de la gráfica\n",
    "  texto_titulo = f\"Pred: {etiqueta_predicha} | Real: {etiqueta_real}\"\n",
    "  \n",
    "  # Chequear si son iguales y cambiar color\n",
    "  if etiqueta_predicha == etiqueta_real:\n",
    "      plt.title(texto_titulo, fontsize=10, c=\"g\") # texto verde si correcto\n",
    "  else:\n",
    "      plt.title(texto_titulo, fontsize=10, c=\"r\") # texto rojo si incorrecto\n",
    "  plt.axis(False);"
   ]
  },
  {
   "cell_type": "markdown",
   "metadata": {},
   "source": [
    "## 5. Elaboración de una matriz de confusión para una mejor evaluación de la predicción\n",
    "\n",
    "Hay muchas diferentes métricas de evaluación que podemos usar para problemas de clasificación.\n",
    "\n",
    "Uno de los más visuales es una [matriz de confusión](https://www.dataschool.io/simple-guide-to-confusion-matrix-terminology/).\n",
    "\n",
    "Una matriz de confusión le muestra dónde se confundió su modelo de clasificación entre predicciones y etiquetas verdaderas.\n",
    "\n",
    "Para hacer una matriz de confusión, seguiremos tres pasos:\n",
    "1. Hacer predicciones con el modelo entrenado, `modelo` (una matriz de confusión compara las predicciones con las etiquetas verdaderas).\n",
    "2. Hacer una matriz de confusión usando [`torch.ConfusionMatrix`(https://torchmetrics.readthedocs.io/en/latest/references/modules.html?highlight=confusion#confusionmatrix).\n",
    "3. Grafica la matriz de confusión usando [`mlxtend.plotting.plot_confusion_matrix()`(http://rasbt.github.io/mlxtend/user_guide/plotting/plot_confusion_matrix/).\n",
    "\n",
    "Comencemos por hacer predicciones con nuestro modelo entrenado."
   ]
  },
  {
   "cell_type": "code",
   "execution_count": null,
   "metadata": {},
   "outputs": [],
   "source": [
    "# 1. Hacer predicciones con el modelo entrenado\n",
    "predicciones = []\n",
    "modelo.eval()\n",
    "with torch.inference_mode():\n",
    "  for imagen, etiqueta in tqdm(cargador_prueba, desc=\"Haciendo predicciones\"):\n",
    "    # Enviar datos al dispositivo\n",
    "    imagen, etiqueta = imagen.to(dispositivo), etiqueta.to(dispositivo)\n",
    "    # Realizar la propagación hacia adelante\n",
    "    salida = modelo(imagen)\n",
    "    # Convertir la salida a predicciones salida -> probabilidades predicción  -> etiquetas predicción\n",
    "    prediccion = torch.softmax(salida.squeeze(), dim=0).argmax(dim=1)\n",
    "    # Colocar las predicciones en el CPU para evaluación\n",
    "    predicciones.append(prediccion.cpu())\n",
    "# Concatenar lista de predicciones en un tensor\n",
    "tensor_predicciones = torch.cat(predicciones)\n",
    "correctos = torch.eq(datos_prueba.targets, tensor_predicciones)\n",
    "print(f'Exactitud: {correctos.sum()/100:.2f}')"
   ]
  },
  {
   "cell_type": "markdown",
   "metadata": {},
   "source": [
    "Ahora que tenemos predicciones, sigamos los pasos 2 y 3:\n",
    "\n",
    "2. Crear una matriz de confusión usando [`torchmetrics.ConfusionMatrix`](https://torchmetrics.readthedocs.io/en/latest/references/modules.html?highlight=confusion#confusionmatrix).\n",
    "3. Graficar la matriz de confusión usando [`mlxtend.plotting.plot_confusion_matrix()`](http://rasbt.github.io/mlxtend/user_guide/plotting/plot_confusion_matrix/).\n",
    "\n",
    "Primero necesitaremos asegurarnos de tener `torchmetrics` y `mlxtend` instalados (estas dos bibliotecas nos ayudarán a crear y visualizar una matriz de confusión).\n",
    "\n",
    "> **Nota:** Si está utilizando Google Colab, la versión predeterminada de `mlxtend` instalada es 0.14.0 (a partir de marzo de 2022), sin embargo, para los parámetros de la función `plot_confusion_matrix()`, necesitamos 0.19.0 o superior."
   ]
  },
  {
   "cell_type": "code",
   "execution_count": null,
   "metadata": {},
   "outputs": [],
   "source": [
    "# Ver si existe torchmetrics, si no, instalarla.\n",
    "try:\n",
    "    import torchmetrics, mlxtend\n",
    "    print(f\"versión mlxtend: {mlxtend.__version__}\")\n",
    "    assert int(mlxtend.__version__.split(\".\")[1]) >= 19, \"mlxtend versión debe ser 0.19.0 o mayor\"\n",
    "except:\n",
    "    !pip install -q torchmetrics -U mlxtend # <- Nota: si está utilizando Google Colab, esto puede requerir reiniciar la ejecución\n",
    "    import torchmetrics, mlxtend\n",
    "    print(f\"versión mlxtend: {mlxtend.__version__}\")"
   ]
  },
  {
   "cell_type": "markdown",
   "metadata": {},
   "source": [
    "Con `torchmetrics` y `mlxtend` instalados, ¡hagamos una matriz de confusión!\n",
    "\n",
    "Primero crearemos una instancia `torchmetrics.ConfusionMatrix` diciéndole con cuántas clases estamos tratando configurando `num_classes=len(nombre_clases)`.\n",
    "\n",
    "Luego, crearemos una matriz de confusión (en formato de tensor) pasando a nuestra instancia las predicciones de nuestro modelo (`preds=tensor_predicciones`) y objetivos (`target=datos_prueba.targets`).\n",
    "\n",
    "Finalmente, podemos graficar nuestra matriz de confusión usando la función `plot_confusion_matrix()` de `mlxtend.plotting`."
   ]
  },
  {
   "cell_type": "code",
   "execution_count": null,
   "metadata": {},
   "outputs": [],
   "source": [
    "from torchmetrics import ConfusionMatrix\n",
    "from mlxtend.plotting import plot_confusion_matrix\n",
    "\n",
    "# 2. Configurar una instancia de la matriz de confusión matrix y comparar predicciones con objetivos\n",
    "matriz_confusion = ConfusionMatrix(task='multiclass', num_classes=len(nombre_clases))\n",
    "tensor_matriz_confusion = matriz_confusion(preds=tensor_predicciones,\n",
    "                                           target=datos_prueba.targets)\n",
    "\n",
    "# 3. Graficar la matriz de the confusión\n",
    "fig, ax = plot_confusion_matrix(\n",
    "    conf_mat=tensor_matriz_confusion.numpy(), # matplotlib trabaja con NumPy \n",
    "    class_names=nombre_clases, # convertir etiquetas de fila y columna en nombre de clases\n",
    "    figsize=(10, 7)\n",
    ");"
   ]
  },
  {
   "cell_type": "markdown",
   "metadata": {},
   "source": [
    "Podemos ver que nuestro modelo funciona bastante bien ya que la mayoría de los cuadrados oscuros están en la diagonal desde la parte superior izquierda hasta la parte inferior derecha (y el modelo ideal tendrá solo valores en estos cuadrados y 0 en todos los demás).\n",
    "El modelo se \"confunde\" más en las clases que son similares, por ejemplo, prediciendo "
   ]
  },
  {
   "cell_type": "markdown",
   "metadata": {
    "tags": []
   },
   "source": [
    "## 7. Guardar el modelo\n",
    "\n",
    "Estamos contentos con las predicciones de nuestros modelos, así que guardémoslo en un archivo para que pueda usarse más tarde."
   ]
  },
  {
   "cell_type": "code",
   "execution_count": null,
   "metadata": {},
   "outputs": [],
   "source": [
    "from pathlib import Path\n",
    "\n",
    "# 1. Crear un directorio para los modelos \n",
    "MODELOS_PATH = Path('../modelos')\n",
    "MODELOS_PATH.mkdir(parents=True, exist_ok=True)\n",
    "\n",
    "# 2. Crear path para el modelo \n",
    "MODELO_NOMBRE = \"23-RNC_modelo_MNIST.pth\"\n",
    "MODELO_DIRECCION = MODELOS_PATH / MODELO_NOMBRE\n",
    "\n",
    "# 3. Guardar el state_dict del modelo\n",
    "print(f\"Guardando modelo en: {MODELO_DIRECCION}\")\n",
    "torch.save(obj=modelo.state_dict(), # guardando state_dict() solo guarda los parámetros del modelo\n",
    "           f=MODELO_DIRECCION)"
   ]
  },
  {
   "cell_type": "markdown",
   "metadata": {},
   "source": [
    "### Cargar modelo y continuar entrenamiento"
   ]
  },
  {
   "cell_type": "code",
   "execution_count": null,
   "metadata": {},
   "outputs": [],
   "source": [
    "# Instanciar una nueva instancia del modelo \n",
    "modelo_cargado = TinyVGG(forma_entrada=1,\n",
    "                        numero_filtros=10,\n",
    "                        forma_salida=10)\n",
    "\n",
    "# Cargar el state dict del modelo\n",
    "modelo_cargado.load_state_dict(torch.load(MODELO_DIRECCION))\n",
    "\n",
    "# Colocar el modelo en el dispositivo destino (si los datos estan en el GPU, el modelo tiene que estar en el GPU para hacer predicciones)\n",
    "modelo_cargado.to(dispositivo)\n",
    "\n",
    "print(f\"Modelo cargado:\\n{modelo}\")"
   ]
  },
  {
   "cell_type": "markdown",
   "metadata": {
    "tags": []
   },
   "source": [
    "### Formulas para calcular los tamaños de salida de las capas de convolución y *pooling* (agregación o reducción)"
   ]
  },
  {
   "cell_type": "markdown",
   "metadata": {},
   "source": [
    "La formula que relaciona el tamaño de salida de la convolución con el tamaño de la entrada es:\n",
    "\n",
    "$$ W = \\lfloor \\frac{W_{prev} - f + 2 \\times relleno}{paso} \\rfloor +1 $$\n",
    "\n",
    "$$f = \\text{número de filtros usados en la convolución}$$\n",
    "\n",
    "La formula que relaciona el tamaño de salida del *pooling* con el tamaño de la entrada es:\n",
    "\n",
    "$$ W = \\lfloor \\frac{W_{prev} - f}{paso} \\rfloor +1 $$\n",
    "\n",
    "$$f = \\text{tamaño de la ventana de pooling}$$"
   ]
  },
  {
   "cell_type": "code",
   "execution_count": null,
   "metadata": {},
   "outputs": [],
   "source": []
  }
 ],
 "metadata": {
  "kernelspec": {
   "display_name": "Python 3 (ipykernel)",
   "language": "python",
   "name": "python3"
  },
  "language_info": {
   "codemirror_mode": {
    "name": "ipython",
    "version": 3
   },
   "file_extension": ".py",
   "mimetype": "text/x-python",
   "name": "python",
   "nbconvert_exporter": "python",
   "pygments_lexer": "ipython3",
   "version": "3.11.7"
  }
 },
 "nbformat": 4,
 "nbformat_minor": 4
}
